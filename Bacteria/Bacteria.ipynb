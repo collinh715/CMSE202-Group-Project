{
 "cells": [
  {
   "cell_type": "code",
   "execution_count": 1,
   "id": "bc4eb273",
   "metadata": {},
   "outputs": [],
   "source": [
    "#imports\n",
    "import random\n",
    "import numpy as np\n",
    "import matplotlib.pyplot as plt"
   ]
  },
  {
   "cell_type": "code",
   "execution_count": null,
   "id": "c2f61e22",
   "metadata": {},
   "outputs": [],
   "source": [
    "class Bacteria():\n",
    "    \"\"\"Bacteria class. \n",
    "    Each bacteria species needs to have a prefered oxygen \n",
    "    concentration as well as rules that governs its motion.\n",
    "    We also need to distribute and size our population evenly\n",
    "    \n",
    "    \n",
    "    Attributes:\n",
    "        o2 [type: int64]\n",
    "            Number from 0 to 1, 0 meaning the bacteria dies from oxygen and\n",
    "            1 meaning that it needs oxygen to survive.\n",
    "        \n",
    "        loc [type: tuple]\n",
    "            Ordered pair of coordinates specifying the bacteria's location.\n",
    "        \n",
    "        \n",
    "    Methods:\n",
    "        __init__(c=0, r=0, o2=0.5)\n",
    "        \n",
    "        mitosis()\n",
    "            Returns a new bacteria.\n",
    "            \n",
    "        draw()\n",
    "            Draws the bacteria.\n",
    "    \"\"\"\n",
    "    \n",
    "    def __init__(self, x = 0, y = 0, o2 = 0.5):\n",
    "        \"\"\"Initializes a bacteria with random starting point on 2D plane. Default location is (0, 0).\n",
    "           Default o2 affinity is 0.5.\n",
    "        \n",
    "        Args:\n",
    "            x [type: int]\n",
    "                Specifies the column of the bacteria in a 2d grid.\n",
    "            \n",
    "            y [type: int]\n",
    "                Specifies the row of the bacteria in a 2d grid.\n",
    "                \n",
    "            o2 [type: float]\n",
    "                Probability that bacteria mutate\n",
    "        \"\"\"\n",
    "        self.loc = (x, y)\n",
    "        self.o2 = o2\n",
    "    \n",
    "    def mitosis(self, x, y):\n",
    "        \"\"\"Returns new bacteria one \"space\" next to the parent.\n",
    "        \n",
    "           How do we do this? We could set up 4 (or 8) directions that take into\n",
    "           account the x and y positions and either add or subtract 1 from either,\n",
    "           and then select a random position.\n",
    "            \n",
    "        \"\"\"\n",
    "        pass\n",
    "    \n",
    "    def draw(self):\n",
    "        \"\"\"Draws the bug with rgb color corresponding to it's genes.\"\"\"\n",
    "        plt.scatter(self.loc[0], self.loc[1], color= \"black\")"
   ]
  }
 ],
 "metadata": {
  "kernelspec": {
   "display_name": "Python 3",
   "language": "python",
   "name": "python3"
  },
  "language_info": {
   "codemirror_mode": {
    "name": "ipython",
    "version": 3
   },
   "file_extension": ".py",
   "mimetype": "text/x-python",
   "name": "python",
   "nbconvert_exporter": "python",
   "pygments_lexer": "ipython3",
   "version": "3.8.8"
  }
 },
 "nbformat": 4,
 "nbformat_minor": 5
}
