{
 "cells": [
  {
   "cell_type": "code",
   "execution_count": 1,
   "id": "1a4ad6d4",
   "metadata": {},
   "outputs": [],
   "source": [
    "#imports\n",
    "import random\n",
    "import numpy as np\n",
    "import matplotlib.pyplot as plt"
   ]
  },
  {
   "cell_type": "code",
   "execution_count": null,
   "id": "ac204b5d",
   "metadata": {},
   "outputs": [],
   "source": [
    "class Bacteria():\n",
    "    \"\"\"Bacteria class. \n",
    "    Each bacteria species needs to have a prefered oxygen \n",
    "    concentration as well as rules that governs its motion.\n",
    "    We also need to distribute and size our population evenly\n",
    "    \n",
    "    \n",
    "    Attributes:\n",
    "        o2 [type: int64]\n",
    "            Number from 0 to 1, 0 meaning the bacteria dies from oxygen and\n",
    "            1 meaning that it needs oxygen to survive.\n",
    "        \n",
    "        loc [type: tuple]\n",
    "            Ordered pair of coordinates specifying the bacteria's location.\n",
    "        \n",
    "        \n",
    "    Methods:\n",
    "        __init__(c=0, r=0, o2=0)\n",
    "        \n",
    "        mitosis()\n",
    "            Returns a new bacteria.\n",
    "            \n",
    "        draw()\n",
    "            Draws the bacteria.\n",
    "    \"\"\"\n",
    "    \n",
    "    def __init__(self, c=0, r=0, mutation_rate=0.2):\n",
    "        \"\"\"Initializes a bug with random genes. Default location is (0, 0).\n",
    "           Default mutation rate is 0.2.\n",
    "        \n",
    "        Args:\n",
    "            c [type: int]\n",
    "                Specifies the column of the bug in a 2d grid.\n",
    "            \n",
    "            r [type: int]\n",
    "                Specifies the row of the bug in a 2d grid.\n",
    "                \n",
    "            mutation_rate [type: float]\n",
    "                Probability that bacteria mutate\n",
    "        \"\"\"\n",
    "        self.genes = np.random.rand(3)\n",
    "        self.loc = (c, r)\n",
    "        self.mutation_rate = mutation_rate\n",
    "    \n",
    "    def mitosis(self):\n",
    "        \"\"\"Returns a new bug.\n",
    "        \n",
    "        Copies genes from the current bug to the new bug with probability\n",
    "        equal to 1 - mutation_rate. Else, assigns new genes at random.\n",
    "        \"\"\"\n",
    "        newbug = Bug(mutation_rate=self.mutation_rate)\n",
    "        for (i, g) in enumerate(self.genes):\n",
    "            if random.random() > self.mutation_rate:\n",
    "                newbug.genes[i] = self.genes[i]\n",
    "        return newbug\n",
    "    \n",
    "    def draw(self):\n",
    "        \"\"\"Draws the bug with rgb color corresponding to it's genes.\"\"\"\n",
    "        plt.scatter(self.loc[0], self.loc[1], color=self.genes)"
   ]
  }
 ],
 "metadata": {
  "kernelspec": {
   "display_name": "Python 3",
   "language": "python",
   "name": "python3"
  },
  "language_info": {
   "codemirror_mode": {
    "name": "ipython",
    "version": 3
   },
   "file_extension": ".py",
   "mimetype": "text/x-python",
   "name": "python",
   "nbconvert_exporter": "python",
   "pygments_lexer": "ipython3",
   "version": "3.8.8"
  }
 },
 "nbformat": 4,
 "nbformat_minor": 5
}
