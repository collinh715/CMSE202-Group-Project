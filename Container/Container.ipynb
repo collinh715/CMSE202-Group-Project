{
 "cells": [
  {
   "cell_type": "code",
   "execution_count": 1,
   "id": "b80d6221",
   "metadata": {},
   "outputs": [],
   "source": [
    "#imports\n",
    "import random\n",
    "import numpy as np\n",
    "import matplotlib.pyplot as plt"
   ]
  },
  {
   "cell_type": "code",
   "execution_count": 5,
   "id": "29d73eb1",
   "metadata": {},
   "outputs": [],
   "source": [
    "class Petri_dish():\n",
    "    \"\"\"Petri_dish class. \n",
    "    \"\"\"\n",
    "    \n",
    "    def __init__(self, xsize=1000, ysize=100, ):\n",
    "        self.xsize = xsize\n",
    "        self.ysize = ysize\n",
    "        self.environ = np.zeros((self.xsize,self.ysize,3))\n",
    "        self.environ[:,:,0] = 0.38\n",
    "        self.environ[:,:,1] = 0.19\n",
    "        self.environ[:,:,2] = 0.04\n",
    "        self.bacteria_agents = []\n",
    "        o2_level=[1, .8, .7, .6, .5, .4, .3, .2, .1, 0]\n",
    "        \n",
    "\n",
    "    \n",
    "    def add_agent(self,agent):\n",
    "        self.bacteria_agents.append(agent)\n",
    "    \n",
    "    def simulate(self,tot_time):\n",
    "        for dt in range(tot_time):\n",
    "            clear_output(wait=True)\n",
    "            plt.figure(figsize=(6, 6))    \n",
    "            plt.imshow(self.environ) \n",
    "            ax = plt.gca()   \n",
    "            \n",
    "            # loop over each animal\n",
    "            temp_agents = []\n",
    "            for agent in self.bacteria_agents:\n",
    "                agent.movement()\n",
    "                agent.draw(ax)\n",
    "                \n",
    "            self.bacteria_agents.clear\n",
    "            self.bacteria_agents = temp_agents\n",
    "            plt.xlim(0,self.xsize)\n",
    "            plt.ylim(0,self.ysize)\n",
    "            plt.show()   \n",
    "            time.sleep(0.001)      \n",
    "\n",
    "    def simulate_plot_populations(self,tot_time):\n",
    "        self.light_brown_animals = []\n",
    "        self.dark_brown_animals = []\n",
    "        self.times = []\n",
    "        for dt in range(tot_time):\n",
    "            \n",
    "            # loop over each animal agent\n",
    "            temp_agents = []\n",
    "            for agent in self.bacteria_agents:\n",
    "                agent.movement()\n",
    "                \n",
    "            self.bacteria_agents.clear\n",
    "            self.bacteria_agents = temp_agents\n",
    "\n",
    "            self.times.append(dt)\n",
    "            self.light_brown_animals.append(0)\n",
    "            for agent in self.bacteria_agents:\n",
    "                if agent.color == 'goldenrod':\n",
    "                    self.light_brown_animals[-1] += 1\n",
    "\n",
    "        plt.plot(self.times,self.light_brown_animals)   \n",
    "        plt.show()"
   ]
  }
 ],
 "metadata": {
  "kernelspec": {
   "display_name": "Python 3",
   "language": "python",
   "name": "python3"
  },
  "language_info": {
   "codemirror_mode": {
    "name": "ipython",
    "version": 3
   },
   "file_extension": ".py",
   "mimetype": "text/x-python",
   "name": "python",
   "nbconvert_exporter": "python",
   "pygments_lexer": "ipython3",
   "version": "3.8.8"
  }
 },
 "nbformat": 4,
 "nbformat_minor": 5
}
